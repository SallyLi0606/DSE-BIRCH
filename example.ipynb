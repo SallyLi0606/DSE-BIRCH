{
 "cells": [
  {
   "cell_type": "markdown",
   "metadata": {},
   "source": [
    "# 1. FPCA\n",
    "Generate static and dynamic feature"
   ]
  },
  {
   "cell_type": "code",
   "execution_count": 1,
   "metadata": {},
   "outputs": [
    {
     "name": "stderr",
     "output_type": "stream",
     "text": [
      "R[write to console]: Loading required package: splines\n",
      "\n",
      "R[write to console]: Loading required package: fds\n",
      "\n",
      "R[write to console]: Loading required package: rainbow\n",
      "\n",
      "R[write to console]: Loading required package: MASS\n",
      "\n",
      "R[write to console]: Loading required package: pcaPP\n",
      "\n",
      "R[write to console]: Loading required package: RCurl\n",
      "\n",
      "R[write to console]: Loading required package: deSolve\n",
      "\n",
      "R[write to console]: \n",
      "Attaching package: ‘fda’\n",
      "\n",
      "\n",
      "R[write to console]: The following object is masked from ‘package:graphics’:\n",
      "\n",
      "    matplot\n",
      "\n",
      "\n"
     ]
    }
   ],
   "source": [
    "import pandas as pd\n",
    "import numpy as np\n",
    "import rpy2.robjects as robjects\n",
    "\n",
    "\n",
    "robjects.r['source']('/home/sally/DSE-BIRCH/fpca.R')\n",
    "def fda_data_process(dpath, nharm=3):\n",
    "    \"\"\" FPCA to generate static and dynamic feature.\n",
    "        Returns:\n",
    "            C: static feature\n",
    "            C_hat: dynamic feature\n",
    "    \"\"\"\n",
    "    df = pd.read_csv(dpath, header=None, sep='\\t')\n",
    "    label = df.iloc[:, 0]\n",
    "    if 0 not in label.unique(): # Adjusting the labels to start from 0\n",
    "        label = label - 1\n",
    "        label = label.tolist()\n",
    "    df = df.iloc[:, 1:].astype(np.float32)\n",
    "    nr, nc = df.shape\n",
    "    df_matrix = robjects.r['matrix'](robjects.FloatVector(df.to_numpy().flatten()), nrow=nr, ncol=nc, byrow=True)\n",
    "    result = robjects.r['fd_decomponent'](df_matrix, nharm)\n",
    "    C = np.array(result[0])\n",
    "    W = np.array(result[1])\n",
    "    varprop = np.array(result[2])\n",
    "\n",
    "    # Our proposed matrix factorization method\n",
    "    # W = K@K.T\n",
    "    K = np.linalg.cholesky(W).T\n",
    "    C_hat = np.dot(C, K)\n",
    "\n",
    "    return C, C_hat, label, varprop\n",
    "\n",
    "nharm = 10\n",
    "C_train, C_hat_train, Y_train, C_varprop = fda_data_process(\"/home/sally/DSE-BIRCH/UCRArchive_2018/ECG5000/ECG5000_TRAIN.tsv\", nharm=nharm)\n",
    "C_test, C_hat_test, Y_test, C_hat_varprop = fda_data_process(\"/home/sally/DSE-BIRCH/UCRArchive_2018/ECG5000/ECG5000_TEST.tsv\", nharm=nharm)"
   ]
  },
  {
   "cell_type": "markdown",
   "metadata": {},
   "source": [
    "# 2. Hierarchical clustering with DSE-BIRCH"
   ]
  },
  {
   "cell_type": "code",
   "execution_count": 2,
   "metadata": {},
   "outputs": [
    {
     "name": "stdout",
     "output_type": "stream",
     "text": [
      "{'silhouette_coefficient': 0.3493190966883594, 'DB_index': 1.2571855944557093, 'purity': 0.93, 'RI': 0.8785480230174607, 'NMI': 0.622520546838737}\n"
     ]
    }
   ],
   "source": [
    "from clustering import DSEBirchClustering\n",
    "\n",
    "# Parameters setting\n",
    "num_cls = 5 # Number of classes for the dataset\n",
    "bf = 10\n",
    "thresh1 = 0.2\n",
    "thresh2 = 100\n",
    "_lambda = 1e-05\n",
    "v = False\n",
    "\n",
    "# Clustering with DSE-BIRCH\n",
    "Birch = DSEBirchClustering(C_train, C_hat_train, Y_train, C_test, C_hat_test, Y_test, verbose=v)\n",
    "result_birch_proposed = Birch.Birch_proposed(branching_factor=bf, n_clusters=num_cls, threshold1=thresh1, threshold2=thresh2, _lambda=_lambda)\n",
    "print(result_birch_proposed)"
   ]
  }
 ],
 "metadata": {
  "kernelspec": {
   "display_name": "Python 3 (ipykernel)",
   "language": "python",
   "name": "python3"
  },
  "language_info": {
   "codemirror_mode": {
    "name": "ipython",
    "version": 3
   },
   "file_extension": ".py",
   "mimetype": "text/x-python",
   "name": "python",
   "nbconvert_exporter": "python",
   "pygments_lexer": "ipython3",
   "version": "3.9.15"
  },
  "vscode": {
   "interpreter": {
    "hash": "b41c3de96dd6bd4597e8dc43e4ef13d85db2a80d9f0a139f34385cec7694a66a"
   }
  }
 },
 "nbformat": 4,
 "nbformat_minor": 2
}
